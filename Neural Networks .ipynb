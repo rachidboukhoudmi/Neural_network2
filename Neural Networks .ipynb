{
 "cells": [
  {
   "cell_type": "code",
   "execution_count": 32,
   "metadata": {},
   "outputs": [],
   "source": [
    "import os\n",
    "\n",
    "os.environ[\"TF_CPP_MIN_LOG_LEVEL\"] = \"2\"\n",
    "\n",
    "import tensorflow as tf\n",
    "from tensorflow import keras\n",
    "from tensorflow.keras import layers\n",
    "from tensorflow.keras.datasets import mnist"
   ]
  },
  {
   "cell_type": "code",
   "execution_count": 33,
   "metadata": {},
   "outputs": [],
   "source": [
    "\n",
    "gpus = tf.config.list_physical_devices('GPU')\n",
    "if gpus:\n",
    "    try:\n",
    "        tf.config.experimental.set_memory_growth(gpus[0], True)\n",
    "    except RuntimeError as e:\n",
    "        print(e)\n"
   ]
  },
  {
   "cell_type": "code",
   "execution_count": 34,
   "metadata": {},
   "outputs": [],
   "source": [
    "\n",
    "(x_train, y_train), (x_test, y_test) = mnist.load_data()\n",
    "x_train = x_train.reshape(-1, 28 * 28).astype(\"float32\") / 255.0\n",
    "x_test = x_test.reshape(-1, 28 * 28).astype(\"float32\") / 255.0"
   ]
  },
  {
   "cell_type": "code",
   "execution_count": 39,
   "metadata": {},
   "outputs": [],
   "source": [
    "\n",
    "# Using Sequential API\n",
    "model = keras.Sequential([\n",
    "    keras.Input(shape=(28 * 28,)),  # or use (784,)\n",
    "    layers.Dense(512, activation=\"relu\"),\n",
    "    layers.Dense(256, activation=\"relu\"),\n",
    "    layers.Dense(10),\n",
    "])\n",
    "\n",
    "# Alternatively, building the model step-by-step\n",
    "model = keras.Sequential()\n",
    "model.add(keras.Input(shape=(784,)))  # shape should be a tuple\n",
    "model.add(layers.Dense(512, activation=\"relu\"))\n",
    "model.add(layers.Dense(256, activation=\"relu\", name=\"my_layer\"))\n",
    "model.add(layers.Dense(10))\n",
    "\n",
    "\n",
    "model.compile(\n",
    "    loss=keras.losses.SparseCategoricalCrossentropy(from_logits=True),\n",
    "    optimizer=keras.optimizers.Adam(learning_rate=0.001),  # Use `learning_rate` instead of `lr`\n",
    "    metrics=[\"accuracy\"],\n",
    ")"
   ]
  },
  {
   "cell_type": "code",
   "execution_count": 40,
   "metadata": {},
   "outputs": [
    {
     "name": "stdout",
     "output_type": "stream",
     "text": [
      "Epoch 1/5\n",
      "1875/1875 - 12s - 7ms/step - accuracy: 0.9441 - loss: 0.1855\n",
      "Epoch 2/5\n",
      "1875/1875 - 10s - 5ms/step - accuracy: 0.9746 - loss: 0.0802\n",
      "Epoch 3/5\n",
      "1875/1875 - 10s - 5ms/step - accuracy: 0.9828 - loss: 0.0542\n",
      "Epoch 4/5\n",
      "1875/1875 - 10s - 5ms/step - accuracy: 0.9864 - loss: 0.0420\n",
      "Epoch 5/5\n",
      "1875/1875 - 10s - 6ms/step - accuracy: 0.9894 - loss: 0.0318\n",
      "313/313 - 2s - 5ms/step - accuracy: 0.9774 - loss: 0.0794\n"
     ]
    },
    {
     "data": {
      "text/plain": [
       "[0.07940428704023361, 0.977400004863739]"
      ]
     },
     "execution_count": 40,
     "metadata": {},
     "output_type": "execute_result"
    }
   ],
   "source": [
    "model.fit(x_train, y_train, batch_size=32, epochs=5, verbose=2)\n",
    "model.evaluate(x_test, y_test, batch_size=32, verbose=2)"
   ]
  },
  {
   "cell_type": "code",
   "execution_count": 37,
   "metadata": {},
   "outputs": [],
   "source": [
    "\n",
    "\n",
    "# Functional API\n",
    "inputs = keras.Input(shape=(784,))  # shape should be a tuple\n",
    "x = layers.Dense(512, activation=\"relu\", name=\"first_layer\")(inputs)\n",
    "x = layers.Dense(256, activation=\"relu\", name=\"second_layer\")(x)\n",
    "outputs = layers.Dense(10, activation=\"softmax\")(x)\n",
    "\n",
    "model = keras.Model(inputs=inputs, outputs=outputs)\n",
    "\n",
    "model.compile(\n",
    "    loss=keras.losses.SparseCategoricalCrossentropy(from_logits=False),\n",
    "    optimizer=keras.optimizers.Adam(learning_rate=0.001),  # Use `learning_rate` instead of `lr`\n",
    "    metrics=[\"accuracy\"],\n",
    ")\n"
   ]
  },
  {
   "cell_type": "code",
   "execution_count": 38,
   "metadata": {},
   "outputs": [
    {
     "name": "stdout",
     "output_type": "stream",
     "text": [
      "Epoch 1/5\n",
      "1875/1875 - 13s - 7ms/step - accuracy: 0.9434 - loss: 0.1847\n",
      "Epoch 2/5\n",
      "1875/1875 - 10s - 6ms/step - accuracy: 0.9758 - loss: 0.0790\n",
      "Epoch 3/5\n",
      "1875/1875 - 10s - 5ms/step - accuracy: 0.9829 - loss: 0.0538\n",
      "Epoch 4/5\n",
      "1875/1875 - 10s - 6ms/step - accuracy: 0.9867 - loss: 0.0411\n",
      "Epoch 5/5\n",
      "1875/1875 - 10s - 5ms/step - accuracy: 0.9886 - loss: 0.0345\n",
      "313/313 - 1s - 3ms/step - accuracy: 0.9777 - loss: 0.0776\n"
     ]
    },
    {
     "data": {
      "text/plain": [
       "[0.07757414132356644, 0.9776999950408936]"
      ]
     },
     "execution_count": 38,
     "metadata": {},
     "output_type": "execute_result"
    }
   ],
   "source": [
    "model.fit(x_train, y_train, batch_size=32, epochs=5, verbose=2)\n",
    "model.evaluate(x_test, y_test, batch_size=32, verbose=2)"
   ]
  },
  {
   "cell_type": "markdown",
   "metadata": {},
   "source": [
    "# **Here we are using the different optimazers that exist like Gradient Descent with Momentum , Adagrad, and RMSprop**\n",
    "# **To see wich of them gives us the best accuracy**"
   ]
  },
  {
   "cell_type": "code",
   "execution_count": 41,
   "metadata": {},
   "outputs": [],
   "source": [
    "\n",
    "# Functional API\n",
    "inputs = keras.Input(shape=(784,))  # shape should be a tuple\n",
    "x = layers.Dense(512, activation=\"relu\", name=\"first_layer\")(inputs)\n",
    "x = layers.Dense(256, activation=\"relu\", name=\"second_layer\")(x)\n",
    "outputs = layers.Dense(10, activation=\"softmax\")(x)\n",
    "\n",
    "model = keras.Model(inputs=inputs, outputs=outputs)\n",
    "\n",
    "model.compile(\n",
    "    loss=keras.losses.SparseCategoricalCrossentropy(from_logits=False),\n",
    "    optimizer=keras.optimizers.Adam(learning_rate=0.001),  # Use `learning_rate` instead of `lr`\n",
    "    metrics=[\"accuracy\"],\n",
    ")"
   ]
  },
  {
   "cell_type": "code",
   "execution_count": 42,
   "metadata": {},
   "outputs": [],
   "source": [
    "\n",
    "model.compile(\n",
    "    loss=keras.losses.SparseCategoricalCrossentropy(from_logits=False),\n",
    "    optimizer=keras.optimizers.SGD(learning_rate=0.01),  # Use SGD with a different learning rate\n",
    "    metrics=[\"accuracy\"],\n",
    ")\n"
   ]
  },
  {
   "cell_type": "code",
   "execution_count": 43,
   "metadata": {},
   "outputs": [
    {
     "name": "stdout",
     "output_type": "stream",
     "text": [
      "Epoch 1/5\n",
      "1875/1875 - 9s - 5ms/step - accuracy: 0.8616 - loss: 0.5496\n",
      "Epoch 2/5\n",
      "1875/1875 - 10s - 5ms/step - accuracy: 0.9231 - loss: 0.2701\n",
      "Epoch 3/5\n",
      "1875/1875 - 11s - 6ms/step - accuracy: 0.9376 - loss: 0.2180\n",
      "Epoch 4/5\n",
      "1875/1875 - 8s - 4ms/step - accuracy: 0.9481 - loss: 0.1838\n",
      "Epoch 5/5\n",
      "1875/1875 - 9s - 5ms/step - accuracy: 0.9558 - loss: 0.1593\n",
      "313/313 - 2s - 7ms/step - accuracy: 0.9589 - loss: 0.1458\n"
     ]
    },
    {
     "data": {
      "text/plain": [
       "[0.1458253115415573, 0.958899974822998]"
      ]
     },
     "execution_count": 43,
     "metadata": {},
     "output_type": "execute_result"
    }
   ],
   "source": [
    "model.fit(x_train, y_train, batch_size=32, epochs=5, verbose=2)\n",
    "model.evaluate(x_test, y_test, batch_size=32, verbose=2)"
   ]
  },
  {
   "cell_type": "code",
   "execution_count": 44,
   "metadata": {},
   "outputs": [],
   "source": [
    "model.compile(\n",
    "    loss=keras.losses.SparseCategoricalCrossentropy(from_logits=False),\n",
    "    optimizer=keras.optimizers.SGD(learning_rate=0.01, momentum=0.9),  # Using momentum with SGD\n",
    "    metrics=[\"accuracy\"],\n",
    ")\n"
   ]
  },
  {
   "cell_type": "code",
   "execution_count": 45,
   "metadata": {},
   "outputs": [
    {
     "name": "stdout",
     "output_type": "stream",
     "text": [
      "Epoch 1/5\n",
      "1875/1875 - 10s - 5ms/step - accuracy: 0.9572 - loss: 0.1421\n",
      "Epoch 2/5\n",
      "1875/1875 - 11s - 6ms/step - accuracy: 0.9760 - loss: 0.0803\n",
      "Epoch 3/5\n",
      "1875/1875 - 9s - 5ms/step - accuracy: 0.9826 - loss: 0.0553\n",
      "Epoch 4/5\n",
      "1875/1875 - 9s - 5ms/step - accuracy: 0.9880 - loss: 0.0395\n",
      "Epoch 5/5\n",
      "1875/1875 - 9s - 5ms/step - accuracy: 0.9912 - loss: 0.0288\n",
      "313/313 - 2s - 5ms/step - accuracy: 0.9793 - loss: 0.0656\n"
     ]
    },
    {
     "data": {
      "text/plain": [
       "[0.0656202882528305, 0.9793000221252441]"
      ]
     },
     "execution_count": 45,
     "metadata": {},
     "output_type": "execute_result"
    }
   ],
   "source": [
    "model.fit(x_train, y_train, batch_size=32, epochs=5, verbose=2)\n",
    "model.evaluate(x_test, y_test, batch_size=32, verbose=2)"
   ]
  },
  {
   "cell_type": "code",
   "execution_count": 46,
   "metadata": {},
   "outputs": [],
   "source": [
    "\n",
    "\n",
    "model.compile(\n",
    "    loss=keras.losses.SparseCategoricalCrossentropy(from_logits=False),\n",
    "    optimizer=keras.optimizers.Adagrad(learning_rate=0.01),  # Using Adagrad optimizer\n",
    "    metrics=[\"accuracy\"],\n",
    ")\n"
   ]
  },
  {
   "cell_type": "code",
   "execution_count": 47,
   "metadata": {},
   "outputs": [
    {
     "name": "stdout",
     "output_type": "stream",
     "text": [
      "Epoch 1/5\n",
      "1875/1875 - 12s - 6ms/step - accuracy: 0.9974 - loss: 0.0121\n",
      "Epoch 2/5\n",
      "1875/1875 - 10s - 5ms/step - accuracy: 0.9986 - loss: 0.0088\n",
      "Epoch 3/5\n",
      "1875/1875 - 10s - 5ms/step - accuracy: 0.9990 - loss: 0.0073\n",
      "Epoch 4/5\n",
      "1875/1875 - 9s - 5ms/step - accuracy: 0.9994 - loss: 0.0062\n",
      "Epoch 5/5\n",
      "1875/1875 - 9s - 5ms/step - accuracy: 0.9994 - loss: 0.0056\n",
      "313/313 - 1s - 4ms/step - accuracy: 0.9836 - loss: 0.0536\n"
     ]
    },
    {
     "data": {
      "text/plain": [
       "[0.053582917898893356, 0.9836000204086304]"
      ]
     },
     "execution_count": 47,
     "metadata": {},
     "output_type": "execute_result"
    }
   ],
   "source": [
    "model.fit(x_train, y_train, batch_size=32, epochs=5, verbose=2)\n",
    "model.evaluate(x_test, y_test, batch_size=32, verbose=2)"
   ]
  },
  {
   "cell_type": "code",
   "execution_count": 48,
   "metadata": {},
   "outputs": [],
   "source": [
    "\n",
    "model.compile(\n",
    "    loss=keras.losses.SparseCategoricalCrossentropy(from_logits=False),\n",
    "    optimizer=keras.optimizers.RMSprop(learning_rate=0.001),  # Using RMSprop optimizer\n",
    "    metrics=[\"accuracy\"],\n",
    ")\n"
   ]
  },
  {
   "cell_type": "code",
   "execution_count": 49,
   "metadata": {},
   "outputs": [
    {
     "name": "stdout",
     "output_type": "stream",
     "text": [
      "Epoch 1/5\n",
      "1875/1875 - 12s - 6ms/step - accuracy: 0.9762 - loss: 0.0771\n",
      "Epoch 2/5\n",
      "1875/1875 - 10s - 5ms/step - accuracy: 0.9827 - loss: 0.0605\n",
      "Epoch 3/5\n",
      "1875/1875 - 9s - 5ms/step - accuracy: 0.9870 - loss: 0.0461\n",
      "Epoch 4/5\n",
      "1875/1875 - 9s - 5ms/step - accuracy: 0.9898 - loss: 0.0381\n",
      "Epoch 5/5\n",
      "1875/1875 - 9s - 5ms/step - accuracy: 0.9921 - loss: 0.0304\n",
      "313/313 - 1s - 3ms/step - accuracy: 0.9801 - loss: 0.1214\n"
     ]
    },
    {
     "data": {
      "text/plain": [
       "[0.12139417976140976, 0.9800999760627747]"
      ]
     },
     "execution_count": 49,
     "metadata": {},
     "output_type": "execute_result"
    }
   ],
   "source": [
    "model.fit(x_train, y_train, batch_size=32, epochs=5, verbose=2)\n",
    "model.evaluate(x_test, y_test, batch_size=32, verbose=2)"
   ]
  },
  {
   "cell_type": "code",
   "execution_count": null,
   "metadata": {},
   "outputs": [],
   "source": []
  }
 ],
 "metadata": {
  "kernelspec": {
   "display_name": "ml",
   "language": "python",
   "name": "ml"
  },
  "language_info": {
   "codemirror_mode": {
    "name": "ipython",
    "version": 3
   },
   "file_extension": ".py",
   "mimetype": "text/x-python",
   "name": "python",
   "nbconvert_exporter": "python",
   "pygments_lexer": "ipython3",
   "version": "3.11.7"
  }
 },
 "nbformat": 4,
 "nbformat_minor": 2
}
